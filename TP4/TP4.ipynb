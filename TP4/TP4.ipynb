{
 "cells": [
  {
   "cell_type": "markdown",
   "metadata": {},
   "source": [
    "## Correspondencia de Características (Match)"
   ]
  },
  {
   "cell_type": "code",
   "execution_count": 8,
   "metadata": {},
   "outputs": [
    {
     "name": "stdout",
     "output_type": "stream",
     "text": [
      "Using matplotlib backend: Qt5Agg\n"
     ]
    }
   ],
   "source": [
    "#Si queremos que las imágenes sean mostradas en una ventana emergente quitar el inline\n",
    "# %matplotlib inline\n",
    "%matplotlib\n",
    "\n",
    "# OpenCV-Python utiliza NumPy para el manejo de imágenes\n",
    "import numpy as np\n",
    "# cv2 es el módulo python para acceder a OpenCV \n",
    "import cv2 as cv\n",
    "# Usamos las poderosas herramientas de graficación de matplotlib para mostrar imágenes, perfiles, histogramas, etc\n",
    "import matplotlib.pyplot as plt\n"
   ]
  },
  {
   "cell_type": "code",
   "execution_count": 15,
   "metadata": {},
   "outputs": [],
   "source": [
    "# Cargamos la imagen a buscar\n",
    "img = cv.imread('oveja1.png',cv.IMREAD_GRAYSCALE)\n",
    "#img = cv.imread('oveja2.png',cv.IMREAD_GRAYSCALE)\n",
    "#img = cv.imread('piedra1.png',cv.IMREAD_GRAYSCALE)\n",
    "#img = cv.imread('piedra2.png',cv.IMREAD_GRAYSCALE)\n",
    "#img = cv.imread('ladrillos1.png',cv.IMREAD_GRAYSCALE)\n",
    "#img = cv.imread('ladrillos2.png',cv.IMREAD_GRAYSCALE)\n"
   ]
  },
  {
   "cell_type": "code",
   "execution_count": 16,
   "metadata": {},
   "outputs": [],
   "source": [
    "lpbImage = np.zeros((img[:,0].size-2,img[0,:].size-2), np.uint8)\n",
    "\n",
    "img[:,0].size,img[0,:].size\n",
    "\n",
    "for x in range(1,img[:,0].size-1):\n",
    "    for y in range(1,img[0,:].size-1):\n",
    "        val=0\n",
    "        if(img[x-1,y]>=img[x,y]):\n",
    "            val+=1\n",
    "        if(img[x-1,y+1]>=img[x,y]):\n",
    "            val+=2\n",
    "        if(img[x,y+1]>=img[x,y]):\n",
    "            val+=4\n",
    "        if(img[x+1,y+1]>=img[x,y]):\n",
    "            val+=8\n",
    "        if(img[x+1,y]>=img[x,y]):\n",
    "            val+=16\n",
    "        if(img[x+1,y-1]>=img[x,y]):\n",
    "            val+=32\n",
    "        if(img[x,y-1]>=img[x,y]):\n",
    "            val+=64\n",
    "        if(img[x-1,y-1]>=img[x,y]):\n",
    "            val+=128\n",
    "            \n",
    "        lpbImage[x-1,y-1]=val    \n",
    "        "
   ]
  },
  {
   "cell_type": "code",
   "execution_count": 17,
   "metadata": {},
   "outputs": [],
   "source": [
    "fig = plt.figure()\n",
    "# Imagen original\n",
    "ax1=plt.subplot(221)\n",
    "ax1.imshow(img, cmap='gray', vmin=0, vmax=255)\n",
    "ax1.set_title('Original')\n",
    "\n",
    "# Imagen original\n",
    "ax2=plt.subplot(222)\n",
    "ax2.imshow(lpbImage, cmap='gray', vmin=0, vmax=255)\n",
    "ax2.set_title('LPB')\n",
    "\n",
    "hist1,bins1 = np.histogram(img.ravel(),256,[0,256])\n",
    "ax3=plt.subplot(223)\n",
    "ax3.plot(hist1)\n",
    "ax3.set_title('Histo Orig')\n",
    "\n",
    "hist2,bins2 = np.histogram(lpbImage.ravel(),256,[0,256])\n",
    "ax4=plt.subplot(224)\n",
    "ax4.plot(hist2)\n",
    "ax4.set_title('Histo LPB')\n",
    "\n",
    "fig.show()"
   ]
  },
  {
   "cell_type": "code",
   "execution_count": null,
   "metadata": {},
   "outputs": [],
   "source": []
  }
 ],
 "metadata": {
  "kernelspec": {
   "display_name": "Python 3",
   "language": "python",
   "name": "python3"
  },
  "language_info": {
   "codemirror_mode": {
    "name": "ipython",
    "version": 3
   },
   "file_extension": ".py",
   "mimetype": "text/x-python",
   "name": "python",
   "nbconvert_exporter": "python",
   "pygments_lexer": "ipython3",
   "version": "3.8.8"
  }
 },
 "nbformat": 4,
 "nbformat_minor": 4
}
