{
 "cells": [
  {
   "cell_type": "markdown",
   "metadata": {},
   "source": [
    "# Operadores de píxel\n",
    "\n",
    "Brillo\n",
    "Contraste\n",
    "Gamma"
   ]
  },
  {
   "cell_type": "code",
   "execution_count": 4,
   "metadata": {},
   "outputs": [],
   "source": [
    "#Si queremos que las imágenes sean mostradas en una ventana emergente quitar el inline\n",
    "%matplotlib inline\n",
    "\n",
    "# OpenCV-Python utiliza NumPy para el manejo de imágenes\n",
    "import numpy as np\n",
    "# cv2 es el módulo python para acceder a OpenCV \n",
    "import cv2 as cv\n",
    "# Usamos las poderosas herramientas de graficación de matplotlib para mostrar imágenes, perfiles, histogramas, etc\n",
    "import matplotlib.pyplot as plt\n"
   ]
  },
  {
   "cell_type": "code",
   "execution_count": 16,
   "metadata": {},
   "outputs": [],
   "source": [
    "def coordenadas_cromaticas(image):\n",
    "    img = image.copy()\n",
    "    for i in range(image.shape[0]):\n",
    "        for j in range(image.shape[1]):\n",
    "            totalRGB=float(img[i,j,0])+float(img[i,j,1])+float(img[i,j,2])\n",
    "            if totalRGB>0:\n",
    "                img[i,j,0]/=totalRGB\n",
    "                img[i,j,1]/=totalRGB\n",
    "                img[i,j,2]/=totalRGB\n",
    "\n",
    "    img=img.astype('uint8') # Hay que castear a 8 bits\n",
    "    return img"
   ]
  },
  {
   "cell_type": "code",
   "execution_count": 17,
   "metadata": {},
   "outputs": [
    {
     "data": {
      "image/png": "[encoded data removed]",
      "text/plain": [
       "<Figure size 432x288 with 1 Axes>"
      ]
     },
     "metadata": {
      "needs_background": "light"
     },
     "output_type": "display_data"
    }
   ],
   "source": [
    "# Cargar una imagen en modo monocromático (un canal)\n",
    "#img = cv.imread('imgBloque1.bmp',cv.IMREAD_GRAYSCALE)\n",
    "img = cv.imread('CoordCrom_1.png')\n",
    "imgRGB = cv.cvtColor(img, cv.COLOR_BGR2RGB)\n",
    "\n",
    "img_mod=imgRGB.copy()\n",
    "#img_mod=img_mod.round()\n",
    "#np.clip(img_mod, 0, 255, out=img_mod)   # Clip trunca a lo que se le diga (0 a 255)\n",
    "#img_mod=img_mod.astype('uint8') # Hay que castear a 8 bits\n",
    "ax3=plt.subplot(223)\n",
    "ax3.imshow(coordenadas_cromaticas(img_mod), cmap='gray', vmin=0, vmax=255)\n",
    "#ax3.set_title('Contraste: {}%'.format(contraste))\n",
    "\n",
    "\n",
    "\n",
    "\n",
    "plt.show()\n"
   ]
  },
  {
   "cell_type": "code",
   "execution_count": null,
   "metadata": {},
   "outputs": [],
   "source": []
  }
 ],
 "metadata": {
  "kernelspec": {
   "display_name": "Python 3",
   "language": "python",
   "name": "python3"
  },
  "language_info": {
   "codemirror_mode": {
    "name": "ipython",
    "version": 3
   },
   "file_extension": ".py",
   "mimetype": "text/x-python",
   "name": "python",
   "nbconvert_exporter": "python",
   "pygments_lexer": "ipython3",
   "version": "3.8.8"
  }
 },
 "nbformat": 4,
 "nbformat_minor": 2
}
