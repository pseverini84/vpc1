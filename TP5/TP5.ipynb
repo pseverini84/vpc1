{
 "cells": [
  {
   "cell_type": "code",
   "execution_count": 1,
   "metadata": {},
   "outputs": [
    {
     "name": "stdout",
     "output_type": "stream",
     "text": [
      "Using matplotlib backend: Qt5Agg\n"
     ]
    }
   ],
   "source": [
    "#Si queremos que las imágenes sean mostradas en una ventana emergente quitar el inline\n",
    "# %matplotlib inline\n",
    "%matplotlib\n",
    "\n",
    "# Importamos las librerías necesarias\n",
    "import numpy as np\n",
    "import cv2 as cv\n",
    "import matplotlib.pyplot as plt\n",
    "import argparse"
   ]
  },
  {
   "cell_type": "code",
   "execution_count": null,
   "metadata": {},
   "outputs": [],
   "source": [
    "SOLO TOMO LA ARISTA SUPERIOR IZQ y LA INFERIOR DERECHA PARA DEFINIR LA ROI EN LA CAPTURA INICIAL"
   ]
  },
  {
   "cell_type": "code",
   "execution_count": 2,
   "metadata": {},
   "outputs": [],
   "source": [
    "def getRoi(event, x, y, flags, param):\n",
    "    global frame,roiPts\n",
    "    if event == cv.EVENT_LBUTTONDOWN and len(roiPts) < 2:\n",
    "        roiPts.append((x,y))\n",
    "        cv.circle(frame, (x,y), 4, (0,255,0), 2)\n",
    "        cv.imshow(\"ROI\",frame)\n",
    "       \n",
    "    if len(roiPts) == 2:\n",
    "        # Definimos la ubicación inical de la ventana de seguimiento\n",
    "        #-----------------------------------------------------------\n",
    "        # r,h,c,w - Región de la imagen (valores harcodeados)\n",
    "        #x, y, w, h = 300, 200, 100, 50\n",
    "        #x, y, w, h = roiPts\n",
    "        x,y = roiPts[0]\n",
    "        w,h = roiPts[1]\n",
    "        w = w-x\n",
    "        h = h-y\n",
    "        track_window = (x, y, w, h)\n",
    "\n",
    "        # Una vez definida la ROI recortamos esa parte de la imagen que utilizaremos para seguimiento\n",
    "        #--------------------------------------------------------------------------------------------\n",
    "        roi = frame[y:y+h, x:x+w]\n",
    "        # Pasamos la ROI a HSV (los valores de H son más estables a cambios de intensidad)\n",
    "        hsv_roi =  cv.cvtColor(roi, cv.COLOR_BGR2HSV)\n",
    "        # Definimos una máscara para el histograma (Hue: 0..180, Saturation:60..255, Value:32..255)\n",
    "        mask = cv.inRange(hsv_roi, np.array((0., 60.,32.)), np.array((180.,255.,255.)))\n",
    "        # Y calculamos el histograma sobre esa máscara (toma solo el Hue: tonalidad)\n",
    "        roi_hist = cv.calcHist([hsv_roi],[0],mask,[180],[0,180])\n",
    "        # Normalizamos el histograma (entre 0 y 255 según indica el flag cv.NORM_MINMAX)\n",
    "        cv.normalize(roi_hist,roi_hist,0,255,cv.NORM_MINMAX);\n",
    "        \n",
    "                # Condición de terminación: 10 iteraciones o moverse al menos 1pt\n",
    "        #----------------------------------------------------------------\n",
    "        term_crit = ( cv.TERM_CRITERIA_EPS | cv.TERM_CRITERIA_COUNT, 1, 10 )\n",
    "\n",
    "        while(1):\n",
    "            ret, frame = cap.read()\n",
    "            if ret == True:\n",
    "                hsv = cv.cvtColor(frame, cv.COLOR_BGR2HSV)\n",
    "                dst = cv.calcBackProject([hsv],[0],roi_hist,[0,180],1)\n",
    "\n",
    "                # Aplicamos camshift al nuevo frame\n",
    "                #----------------------------------\n",
    "                ret, track_window = cv.CamShift(dst, track_window, term_crit)\n",
    "\n",
    "                # Dibujamos la ventana sobre la imagen\n",
    "                #=====================================\n",
    "\n",
    "                # Con escalamiento y rotación de la ventana de seguimiento\n",
    "                #---------------------------------------------------------\n",
    "                #pts = cv.boxPoints(ret)                      # Encuentra los 4 vértices del rectángulo rotado\n",
    "                #pts = np.int0(pts)                           # int0 (entero usado para indexado)\n",
    "                #img2 = cv.polylines(frame,[pts],True, 255,2) # Dibujo del rectángulo\n",
    "\n",
    "                # Con escalamiento de ventana - Sin rotación\n",
    "                #-------------------------------------------\n",
    "                x,y,w,h = track_window\n",
    "                img2 = cv.rectangle(frame, (x,y), (x+w,y+h), 255,2)\n",
    "\n",
    "                cv.imshow('Seguimiento',img2)\n",
    "\n",
    "                k = cv.waitKey(30) & 0xff\n",
    "                if k == 27:\n",
    "                    break\n",
    "            else:\n",
    "                break\n",
    "        cv.destroyAllWindows()\n",
    "        cap.release()"
   ]
  },
  {
   "cell_type": "code",
   "execution_count": 3,
   "metadata": {},
   "outputs": [],
   "source": [
    "# Puntero al video\n",
    "cap = cv.VideoCapture(0)\n",
    "\n",
    "# Tomamos el primer frame del video (donde vamos a definir la ROI)\n",
    "#-----------------------------------------------------------------\n",
    "ret,frame = cap.read()\n",
    "\n",
    "roiPts=[]\n",
    "\n",
    "cv.imshow(\"ROI\", frame)\n",
    "#cv.namedWindow(\"ROI\")\n",
    "cv.setMouseCallback(\"ROI\", getRoi)\n"
   ]
  },
  {
   "cell_type": "code",
   "execution_count": null,
   "metadata": {},
   "outputs": [],
   "source": []
  }
 ],
 "metadata": {
  "kernelspec": {
   "display_name": "Python 3",
   "language": "python",
   "name": "python3"
  },
  "language_info": {
   "codemirror_mode": {
    "name": "ipython",
    "version": 3
   },
   "file_extension": ".py",
   "mimetype": "text/x-python",
   "name": "python",
   "nbconvert_exporter": "python",
   "pygments_lexer": "ipython3",
   "version": "3.8.8"
  }
 },
 "nbformat": 4,
 "nbformat_minor": 4
}
