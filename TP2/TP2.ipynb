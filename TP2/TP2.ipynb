{
 "cells": [
  {
   "cell_type": "markdown",
   "metadata": {},
   "source": [
    "## Bordes"
   ]
  },
  {
   "cell_type": "markdown",
   "metadata": {},
   "source": [
    "#### Detección de bordes"
   ]
  },
  {
   "cell_type": "code",
   "execution_count": 3,
   "metadata": {},
   "outputs": [
    {
     "name": "stdout",
     "output_type": "stream",
     "text": [
      "Using matplotlib backend: Qt5Agg\n"
     ]
    }
   ],
   "source": [
    "#Si queremos que las imágenes sean mostradas en una ventana emergente quitar el inline\n",
    "# %matplotlib inline\n",
    "%matplotlib\n",
    "\n",
    "# OpenCV-Python utiliza NumPy para el manejo de imágenes\n",
    "import numpy as np\n",
    "# cv2 es el módulo python para acceder a OpenCV \n",
    "import cv2 as cv\n",
    "# Usamos las poderosas herramientas de graficación de matplotlib para mostrar imágenes, perfiles, histogramas, etc\n",
    "import matplotlib.pyplot as plt\n",
    "# Importamos librerías para manejo de tiempo\n",
    "import time"
   ]
  },
  {
   "cell_type": "code",
   "execution_count": 4,
   "metadata": {},
   "outputs": [],
   "source": [
    "img = cv.imread('metalgrid.jpg',0)\n",
    "\n",
    "#grises=True\n",
    "grises=True\n",
    "if grises:\n",
    "    # En escala de grises\n",
    "    #laplacian = cv.Laplacian(img,cv.CV_64F)\n",
    "    sobelx = cv.Sobel(img,cv.CV_64F,1,0,ksize=3)\n",
    "    sobely = cv.Sobel(img,cv.CV_64F,0,1,ksize=3)\n",
    "else:\n",
    "    # En blanco y negro\n",
    "    #laplacian = cv.Laplacian(img,cv.CV_8U)\n",
    "    sobelx = cv.Sobel(img,cv.CV_8U,1,0,ksize=3)\n",
    "    sobely = cv.Sobel(img,cv.CV_8U,0,1,ksize=3)\n",
    "\n",
    "mag = np.hypot(sobelx, sobely)\n",
    "#mag = mag/mag.max()*255\n",
    "#mag = np.uint8(mag)\n",
    "    \n",
    "    \n",
    "    \n",
    "ax1=plt.subplot(2,2,1),plt.imshow(img,cmap = 'gray')\n",
    "plt.title('Original'), plt.xticks([]), plt.yticks([])\n",
    "ax2=plt.subplot(2,2,2),plt.imshow(mag,cmap = 'gray')\n",
    "plt.title('Modulo'), plt.xticks([]), plt.yticks([])\n",
    "\n",
    "# Encontramos la Dirección y la pasamos a grados\n",
    "theta = np.arctan2(sobely, sobelx)\n",
    "angle = np.rad2deg(theta)\n",
    "\n",
    "ax3=plt.subplot(2,2,3),plt.imshow(angle,cmap = 'gray')\n",
    "plt.title('Angulo'), plt.xticks([]), plt.yticks([])\n",
    "\n",
    "imgColor = cv.imread('metalgrid.jpg')\n",
    "\n",
    "for x in range(angle[:,0].size):\n",
    "    for y in range(angle[0,:].size):\n",
    "        if(mag[x,y]>=100):\n",
    "            if(angle[x,y]>27 and angle[x,y]<47):\n",
    "                imgColor[x,y,0]=255\n",
    "                imgColor[x,y,1]=0\n",
    "                imgColor[x,y,2]=0\n",
    "            if(angle[x,y]>-47 and angle[x,y]<27):\n",
    "                imgColor[x,y,0]=0\n",
    "                imgColor[x,y,1]=0\n",
    "                imgColor[x,y,2]=255\n",
    "            if(angle[x,y]>134 and angle[x,y]<154):\n",
    "                imgColor[x,y,0]=0\n",
    "                imgColor[x,y,1]=255\n",
    "                imgColor[x,y,2]=0\n",
    "            if(angle[x,y]>-154 and angle[x,y]<-134):\n",
    "                imgColor[x,y,0]=255\n",
    "                imgColor[x,y,1]=255\n",
    "                imgColor[x,y,2]=0\n",
    "     \n",
    "ax4=plt.subplot(2,2,4),plt.imshow(imgColor,cmap = 'gray')\n",
    "plt.title('Coloreada'), plt.xticks([]), plt.yticks([])\n",
    "plt.show()\n",
    "\n",
    "plt.show()\n",
    "\n"
   ]
  },
  {
   "cell_type": "code",
   "execution_count": 38,
   "metadata": {},
   "outputs": [],
   "source": [
    "#este es el histogramas que use para sacar los angulos\n",
    "hist1,bins1 = np.histogram(angle,360,[-180,180])\n",
    "plt.plot(hist1)\n",
    "plt.show()"
   ]
  },
  {
   "cell_type": "code",
   "execution_count": 10,
   "metadata": {},
   "outputs": [],
   "source": [
    "#este es el histo que hice para ver como distribuian las magnitudes\n",
    "hist1,bins1 = np.histogram(mag,1000,[0,1000])\n",
    "plt.plot(hist1)\n",
    "plt.show()\n"
   ]
  },
  {
   "cell_type": "code",
   "execution_count": null,
   "metadata": {},
   "outputs": [],
   "source": []
  }
 ],
 "metadata": {
  "kernelspec": {
   "display_name": "Python 3",
   "language": "python",
   "name": "python3"
  },
  "language_info": {
   "codemirror_mode": {
    "name": "ipython",
    "version": 3
   },
   "file_extension": ".py",
   "mimetype": "text/x-python",
   "name": "python",
   "nbconvert_exporter": "python",
   "pygments_lexer": "ipython3",
   "version": "3.8.8"
  }
 },
 "nbformat": 4,
 "nbformat_minor": 4
}
