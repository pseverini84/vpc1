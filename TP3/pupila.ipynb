{
 "cells": [
  {
   "cell_type": "markdown",
   "metadata": {},
   "source": [
    "## Transformada de Hough"
   ]
  },
  {
   "cell_type": "code",
   "execution_count": 71,
   "metadata": {},
   "outputs": [
    {
     "name": "stdout",
     "output_type": "stream",
     "text": [
      "Using matplotlib backend: Qt5Agg\n"
     ]
    }
   ],
   "source": [
    "#Si queremos que las imágenes sean mostradas en una ventana emergente quitar el inline\n",
    "# %matplotlib inline\n",
    "%matplotlib\n",
    "\n",
    "# OpenCV-Python utiliza NumPy para el manejo de imágenes\n",
    "import numpy as np\n",
    "# cv2 es el módulo python para acceder a OpenCV \n",
    "import cv2 as cv\n",
    "# Usamos las poderosas herramientas de graficación de matplotlib para mostrar imágenes, perfiles, histogramas, etc\n",
    "import matplotlib.pyplot as plt"
   ]
  },
  {
   "cell_type": "markdown",
   "metadata": {},
   "source": [
    "#### Transformada de Hough - Círculos"
   ]
  },
  {
   "cell_type": "code",
   "execution_count": 128,
   "metadata": {},
   "outputs": [
    {
     "name": "stdout",
     "output_type": "stream",
     "text": [
      "-290\n",
      "352\n",
      "370\n",
      "314\n",
      "366\n",
      "-96\n",
      "-420\n",
      "-390\n",
      "-366\n",
      "182\n",
      "-182\n",
      "288\n",
      "-314\n",
      "290\n"
     ]
    }
   ],
   "source": [
    "# Obtenemos los círculos por la transformada de Hough\n",
    "# (imagen en grises, método, flag de resolución del acumulador, dist mín entre centros de círculos\n",
    "# umbral alto de Canny, umbral del acumulador, radio_min, radio_max)\n",
    "#===================================================================\n",
    "img = cv.imread('eyes.jpg')\n",
    "gray = cv.cvtColor(img,cv.COLOR_BGR2GRAY)\n",
    "img_out = img.copy()\n",
    "circles = cv.HoughCircles(gray,cv.HOUGH_GRADIENT,1,minDist=60,param1=90,param2=10,minRadius=13,maxRadius=15)\n",
    "\n",
    "circles = np.uint16(np.around(circles))                \n",
    "                \n",
    "for i in circles[0,:]:\n",
    "    # Dibujamos el círculo externo\n",
    "    cv.circle(img_out,(i[0],i[1]),i[2],(0,255,0),2)\n",
    "    # Dibujamos el centro del círculo\n",
    "    cv.circle(img_out,(i[0],i[1]),2,(0,0,255),3)\n",
    "    \n",
    "\n",
    "for y in circles[0,:]:\n",
    "    bestMatch=1000000\n",
    "    distance=0\n",
    "    for y1 in circles[0,:]:\n",
    "        if(y[1]<=y1[1]):\n",
    "            if(bestMatch>np.int16(y1[1]) - np.int16(y[1])):\n",
    "                if(y[0]!=y1[0]):\n",
    "                    bestMatch=np.int16(y1[1]) - np.int16(y[1])\n",
    "                    distance=np.int16(y[0])-np.int16(y1[0])\n",
    "                    y2=y1\n",
    "        else:\n",
    "            if(bestMatch>np.int16(y[1]) - np.int16(y1[1])):\n",
    "                if(y[0]!=y1[0]):\n",
    "                    bestMatch=np.int16(y[1]) - np.int16(y1[1])\n",
    "                    distance=np.int16(y[0])-np.int16(y1[0])\n",
    "                    y2=y1\n",
    "    print(distance)        \n",
    "    cv.line(img_out,(y[0],y[1]),(y2[0],y2[1]),(0,0,255),1)\n",
    "    \n",
    "plt.imshow(img_out)\n",
    "plt.show()"
   ]
  },
  {
   "cell_type": "code",
   "execution_count": null,
   "metadata": {},
   "outputs": [],
   "source": []
  },
  {
   "cell_type": "code",
   "execution_count": null,
   "metadata": {},
   "outputs": [],
   "source": []
  }
 ],
 "metadata": {
  "kernelspec": {
   "display_name": "Python 3",
   "language": "python",
   "name": "python3"
  },
  "language_info": {
   "codemirror_mode": {
    "name": "ipython",
    "version": 3
   },
   "file_extension": ".py",
   "mimetype": "text/x-python",
   "name": "python",
   "nbconvert_exporter": "python",
   "pygments_lexer": "ipython3",
   "version": "3.8.8"
  }
 },
 "nbformat": 4,
 "nbformat_minor": 4
}
